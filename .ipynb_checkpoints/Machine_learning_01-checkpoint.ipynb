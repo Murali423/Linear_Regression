{
 "cells": [
  {
   "cell_type": "markdown",
   "id": "3db46bc8",
   "metadata": {},
   "source": [
    "### Machine Learning Assignment-01"
   ]
  },
  {
   "cell_type": "markdown",
   "id": "4ae5799e",
   "metadata": {},
   "source": [
    "Submitted by: G.Murali Divya Teja"
   ]
  },
  {
   "cell_type": "markdown",
   "id": "991e4398",
   "metadata": {},
   "source": [
    "1. What is Linear Regression?\n",
    "2. How we can calculate error in the Linear Regression?\n",
    "3. What is Error in Regression?\n",
    "4. Difference between Loss function and Cost function?\n",
    "5. What is the difference between MSE,MAE and RMSE?\n",
    "6. Explain about the intercept term means?\n",
    "7. Write all assumptions for linear regression?\n",
    "8. How Hypothesis testing used in the Linear Regression?\n",
    "9. How would you decide importance of variable for the multivariate regression?\n",
    "10. Differenece between R^2 and Adjusted-R^2 ?"
   ]
  },
  {
   "cell_type": "markdown",
   "id": "39daaf5e",
   "metadata": {},
   "source": [
    "#### 1. What is Linear Regerssion?"
   ]
  },
  {
   "cell_type": "markdown",
   "id": "b7290d74",
   "metadata": {},
   "source": [
    "__Ans:__ Linear regression is a quiet and the simplest statistical regression method used for predictive analysis in machine learning. Linear regression shows the linear relationship between the independent(predictor) variable i.e. X-axis and the dependent(output) variable i.e. Y-axis, called linear regression. Linear Regression is a machine learning algorithm based on supervised learning.\n",
    "It is mostly used for finding out the relationship between variables and forecasting.\n",
    "\n",
    " Mathematical Equation for Linear Regerssion     $\\hat{Y} = \\hat{\\beta}_{0} + \\sum \\limits _{j=1} ^{p} X_{j}\\hat{\\beta}_{j} $\n",
    " \n",
    " here  $\\hat{Y}$ is the dependent variable, X is the independent variable, $\\hat{\\beta}_{0}$ is the intercepter, $\\hat{\\beta}_{j}$ is the slope of the equation\n",
    " \n",
    "Here in linear regresion we fiding the best fit line for the dependent variable to get best fitline $\\hat{\\beta}_{0}$ ,$\\hat{\\beta}_{j}$  interceptor and slope will be modified using Gradient Decent. \n",
    "\n",
    "Types of Linear Regression\n",
    "1. Simple Linear Regression\n",
    "2. Multiple Linear Regression\n",
    "3. Polynomial Linear Regression"
   ]
  },
  {
   "cell_type": "markdown",
   "id": "572c5283",
   "metadata": {},
   "source": [
    "#### 2.How we can calculate error in the Linear Regression?"
   ]
  },
  {
   "cell_type": "markdown",
   "id": "29ed321a",
   "metadata": {},
   "source": [
    "__Ans:__ In Linear Regeression, after predicting the best fit line of dependent variable for the given dataset of independent variable, we compare the predicted values with Actual values, if we have any difference between actual and predicted values we call it as error or residual.\n",
    "\n",
    "        Error(or) residual  = predicted_value - Actual_value"
   ]
  },
  {
   "cell_type": "markdown",
   "id": "3616812a",
   "metadata": {},
   "source": [
    "#### 3. What is Error in Regression?"
   ]
  },
  {
   "cell_type": "markdown",
   "id": "46021fac",
   "metadata": {},
   "source": [
    "__Ans:__ In regression, the difference between the observed value of the dependent variable(yi) and the predicted value(predicted) is called the residuals.\n",
    "            \n",
    "            Error(or) residual  = predicted_value - Actual_value"
   ]
  },
  {
   "cell_type": "markdown",
   "id": "bd6c5ee0",
   "metadata": {},
   "source": [
    "#### 4. What is Difference between Loss function and Cost function?"
   ]
  },
  {
   "cell_type": "markdown",
   "id": "10334847",
   "metadata": {},
   "source": [
    "__Ans:__ \n",
    "In other words, the loss function is to capture the difference between the actual and predicted values for a single record whereas cost functions aggregate the difference for the entire training dataset."
   ]
  },
  {
   "cell_type": "markdown",
   "id": "a733c7d9",
   "metadata": {},
   "source": [
    "#### 5.What is the difference between MSE,MAE and RMSE?"
   ]
  },
  {
   "cell_type": "markdown",
   "id": "8c5a9350",
   "metadata": {},
   "source": [
    "__Ans__ In Machine Learning Linear Regression we have 3 different loss fucntions \n",
    "MSE: Mean Square Error: The Mean Squared Error (MSE) is the simplest and most common loss function, often taught in  Machine Learning. To calculate the MSE, you take the difference between your model’s predictions and the actual value, square it, and average it out across the whole dataset.\n",
    "\n",
    "MSE will never be negative, since we are always squaring the errors. The MSE is formally defined by the following equation:\n",
    "\n",
    "               MSE = (1/n)* sum of  (Ypred- Yactual)**2    here n is total number of the datapoints\n",
    "               \n",
    "MAE: The Mean Absolute Error (MAE) is only slightly different in definition from the MSE, but interestingly provides almost exactly opposite properties! To calculate the MAE, you take the difference between your model’s predictions and the ground truth, apply the absolute value to that difference, and then average it out across the whole dataset.\n",
    "\n",
    "The MAE, like the MSE, will never be negative since in this case we are always taking the absolute value of the errors. The MAE is formally defined by the following equation:\n",
    "\n",
    "                  MAE = (1/n)*|Ypred-Yactual|\n",
    "                  \n",
    "RMSE: The most common metric for evaluating linear regression model performance is called root mean squared error, or RMSE. The basic idea is to measure how bad/erroneous the model’s predictions are when compared to actual observed values. So a high RMSE is “bad” and a low RMSE is “good”.\n",
    "\n",
    "the difference between the observed and predicted values is called the residual. The mean squared error (MSE) is the average of all the squared residuals. Then the RMSE just takes the square root of that, which puts the metric back in the response variable scale.\n",
    "    \n",
    "                 RMSE = squre root of((1/n)* sum of  (Ypred- Yactual)**2) = sqrt(MSE)"
   ]
  },
  {
   "cell_type": "markdown",
   "id": "884ba64d",
   "metadata": {},
   "source": [
    "#### 6.Explain about the intercept term means?"
   ]
  },
  {
   "cell_type": "code",
   "execution_count": null,
   "id": "c3f1cd3c",
   "metadata": {},
   "outputs": [],
   "source": []
  }
 ],
 "metadata": {
  "kernelspec": {
   "display_name": "Python 3 (ipykernel)",
   "language": "python",
   "name": "python3"
  },
  "language_info": {
   "codemirror_mode": {
    "name": "ipython",
    "version": 3
   },
   "file_extension": ".py",
   "mimetype": "text/x-python",
   "name": "python",
   "nbconvert_exporter": "python",
   "pygments_lexer": "ipython3",
   "version": "3.9.7"
  }
 },
 "nbformat": 4,
 "nbformat_minor": 5
}
